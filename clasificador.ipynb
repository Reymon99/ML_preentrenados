{
 "cells": [
  {
   "cell_type": "code",
   "execution_count": 1,
   "metadata": {},
   "outputs": [],
   "source": [
    "import torch\n",
    "import torch.nn as nn\n",
    "import torch.optim as optim  # obtenemos calculo de errores\n",
    "from torchvision import utils\n",
    "from torchvision import datasets\n",
    "from torchvision import transforms\n",
    "from PIL import Image\n",
    "import urllib.request as request\n",
    "from matplotlib import pyplot as plt"
   ]
  },
  {
   "cell_type": "markdown",
   "metadata": {},
   "source": [
    "# Construyendo un modelo"
   ]
  },
  {
   "cell_type": "code",
   "execution_count": 2,
   "metadata": {},
   "outputs": [
    {
     "name": "stdout",
     "output_type": "stream",
     "text": [
      "Files already downloaded and verified\n",
      "Files already downloaded and verified\n"
     ]
    }
   ],
   "source": [
    "data_path = 'data/'\n",
    "mean = (0.4915, 0.4823, 0.4468)\n",
    "std = (0.2470, 0.2435, 0.2616)\n",
    "full_data_set = datasets.CIFAR10(data_path, train=True, download=True,\n",
    "                                transform=transforms.Compose([\n",
    "                                    transforms.ToTensor(),\n",
    "                                    transforms.Normalize(mean, std)\n",
    "                                ]))\n",
    "full_validation_set = datasets.CIFAR10(data_path, train=False, download=True,\n",
    "                                      transform=transforms.Compose([\n",
    "                                          transforms.ToTensor(),\n",
    "                                          transforms.Normalize(mean, std)\n",
    "                                      ]))"
   ]
  },
  {
   "cell_type": "code",
   "execution_count": 3,
   "metadata": {},
   "outputs": [],
   "source": [
    "size = 4\n",
    "dataloader = torch.utils.data.DataLoader(full_data_set, batch_size=size, shuffle=True, num_workers=2)"
   ]
  },
  {
   "cell_type": "code",
   "execution_count": 4,
   "metadata": {},
   "outputs": [
    {
     "data": {
      "text/plain": [
       "10000"
      ]
     },
     "execution_count": 4,
     "metadata": {},
     "output_type": "execute_result"
    }
   ],
   "source": [
    "len(full_validation_set)"
   ]
  },
  {
   "cell_type": "code",
   "execution_count": 5,
   "metadata": {},
   "outputs": [
    {
     "data": {
      "text/plain": [
       "50000"
      ]
     },
     "execution_count": 5,
     "metadata": {},
     "output_type": "execute_result"
    }
   ],
   "source": [
    "len(full_data_set)"
   ]
  },
  {
   "cell_type": "code",
   "execution_count": 6,
   "metadata": {},
   "outputs": [
    {
     "name": "stderr",
     "output_type": "stream",
     "text": [
      "Clipping input data to the valid range for imshow with RGB data ([0..1] for floats or [0..255] for integers).\n"
     ]
    },
    {
     "name": "stdout",
     "output_type": "stream",
     "text": [
      "planes\n",
      "deer\n",
      "cat\n",
      "dog\n"
     ]
    },
    {
     "data": {
      "image/png": "[encoded data removed]",
      "text/plain": [
       "<Figure size 432x288 with 1 Axes>"
      ]
     },
     "metadata": {
      "needs_background": "light"
     },
     "output_type": "display_data"
    }
   ],
   "source": [
    "data_iterator = iter(dataloader)\n",
    "imgs, labels = data_iterator.next()\n",
    "classes = ['planes', 'car', 'bird', 'cat', 'deer', 'dog', 'frog', 'horse', 'ship', 'truck']\n",
    "plt.imshow(utils.make_grid(imgs).permute(1, 2, 0))\n",
    "for i in range(size):\n",
    "    print(classes[labels[i]])"
   ]
  },
  {
   "cell_type": "code",
   "execution_count": 7,
   "metadata": {},
   "outputs": [],
   "source": [
    "class_names = ['car', 'cat']\n",
    "label_map = {1: 0, 3: 1}\n",
    "data_set = [(img, label_map[label]) for img, label in full_data_set if label in [1, 3]]\n",
    "validation_set = [(img, label_map[label]) for img, label in full_validation_set if label in [1, 3]]"
   ]
  },
  {
   "cell_type": "code",
   "execution_count": 8,
   "metadata": {},
   "outputs": [
    {
     "data": {
      "text/plain": [
       "torch.Size([3, 32, 32])"
      ]
     },
     "execution_count": 8,
     "metadata": {},
     "output_type": "execute_result"
    }
   ],
   "source": [
    "img, label = data_set[20]\n",
    "img.shape"
   ]
  },
  {
   "cell_type": "code",
   "execution_count": 9,
   "metadata": {},
   "outputs": [],
   "source": [
    "model = nn.Sequential(\n",
    "    nn.Linear(3 * 32 * 32, 512),\n",
    "    nn.Tanh(),\n",
    "    nn.Linear(512, 2)\n",
    ")"
   ]
  },
  {
   "cell_type": "code",
   "execution_count": 10,
   "metadata": {},
   "outputs": [],
   "source": [
    "def softmax(x):\n",
    "    return torch.exp(x) / torch.exp(x).sum()"
   ]
  },
  {
   "cell_type": "code",
   "execution_count": 11,
   "metadata": {},
   "outputs": [],
   "source": [
    "x = torch.tensor([1.0, 2.0, 3.0])"
   ]
  },
  {
   "cell_type": "code",
   "execution_count": 12,
   "metadata": {},
   "outputs": [
    {
     "data": {
      "text/plain": [
       "(tensor([0.0900, 0.2447, 0.6652]), tensor(1.))"
      ]
     },
     "execution_count": 12,
     "metadata": {},
     "output_type": "execute_result"
    }
   ],
   "source": [
    "soft = softmax(x)\n",
    "soft, soft.sum()"
   ]
  },
  {
   "cell_type": "code",
   "execution_count": 13,
   "metadata": {},
   "outputs": [],
   "source": [
    "model = nn.Sequential(\n",
    "    nn.Linear(3 * 32 * 32, 512),\n",
    "    nn.Tanh(),\n",
    "    nn.Linear(512, 2),\n",
    "    nn.Softmax(dim=1)\n",
    ")"
   ]
  },
  {
   "cell_type": "code",
   "execution_count": 14,
   "metadata": {},
   "outputs": [
    {
     "name": "stderr",
     "output_type": "stream",
     "text": [
      "Clipping input data to the valid range for imshow with RGB data ([0..1] for floats or [0..255] for integers).\n"
     ]
    },
    {
     "data": {
      "text/plain": [
       "'car'"
      ]
     },
     "execution_count": 14,
     "metadata": {},
     "output_type": "execute_result"
    },
    {
     "data": {
      "image/png": "[encoded data removed]",
      "text/plain": [
       "<Figure size 432x288 with 1 Axes>"
      ]
     },
     "metadata": {
      "needs_background": "light"
     },
     "output_type": "display_data"
    }
   ],
   "source": [
    "img, label = data_set[20]\n",
    "plt.imshow(img.permute(1, 2, 0))\n",
    "class_names[label]"
   ]
  },
  {
   "cell_type": "code",
   "execution_count": 15,
   "metadata": {},
   "outputs": [
    {
     "data": {
      "text/plain": [
       "tensor([[0.5112, 0.4888]], grad_fn=<SoftmaxBackward>)"
      ]
     },
     "execution_count": 15,
     "metadata": {},
     "output_type": "execute_result"
    }
   ],
   "source": [
    "out = model(img.view(-1).unsqueeze(0))\n",
    "out"
   ]
  },
  {
   "cell_type": "code",
   "execution_count": 16,
   "metadata": {},
   "outputs": [],
   "source": [
    "_, index = torch.max(out, dim=1)"
   ]
  },
  {
   "cell_type": "code",
   "execution_count": 17,
   "metadata": {},
   "outputs": [
    {
     "name": "stdout",
     "output_type": "stream",
     "text": [
      "-> car  model: car\n"
     ]
    }
   ],
   "source": [
    "print('->', class_names[label], ' model:', class_names[index])"
   ]
  },
  {
   "cell_type": "markdown",
   "metadata": {},
   "source": [
    "# Implementando un clasificador totalmente conectado"
   ]
  },
  {
   "cell_type": "code",
   "execution_count": 18,
   "metadata": {},
   "outputs": [],
   "source": [
    "model = nn.Sequential(\n",
    "    nn.Linear(3 * 32 * 32, 512),\n",
    "    nn.Tanh(),\n",
    "    nn.Linear(512, 2),\n",
    "    nn.LogSoftmax(dim=1)\n",
    ")\n",
    "lass_function = nn.NLLLoss()"
   ]
  },
  {
   "cell_type": "code",
   "execution_count": 20,
   "metadata": {},
   "outputs": [
    {
     "name": "stderr",
     "output_type": "stream",
     "text": [
      "Clipping input data to the valid range for imshow with RGB data ([0..1] for floats or [0..255] for integers).\n"
     ]
    },
    {
     "data": {
      "text/plain": [
       "'car'"
      ]
     },
     "execution_count": 20,
     "metadata": {},
     "output_type": "execute_result"
    },
    {
     "data": {
      "image/png": "[encoded data removed]",
      "text/plain": [
       "<Figure size 432x288 with 1 Axes>"
      ]
     },
     "metadata": {
      "needs_background": "light"
     },
     "output_type": "display_data"
    }
   ],
   "source": [
    "img, label = data_set[20]\n",
    "plt.imshow(img.permute(1, 2, 0))\n",
    "class_names[label]"
   ]
  },
  {
   "cell_type": "code",
   "execution_count": 21,
   "metadata": {},
   "outputs": [
    {
     "name": "stdout",
     "output_type": "stream",
     "text": [
      "tensor([[-0.7216, -0.6655]], grad_fn=<LogSoftmaxBackward>)\n",
      "-> car  model: car\n"
     ]
    }
   ],
   "source": [
    "out = model(img.view(-1).unsqueeze(0))\n",
    "print(out)\n",
    "print('->', class_names[label], ' model:', class_names[index])"
   ]
  },
  {
   "cell_type": "code",
   "execution_count": 23,
   "metadata": {},
   "outputs": [
    {
     "name": "stdout",
     "output_type": "stream",
     "text": [
      "Epoch: 0, Loss: 0.0011872155591845512\n",
      "Epoch: 1, Loss: 0.07186727225780487\n",
      "Epoch: 2, Loss: 0.48163360357284546\n",
      "Epoch: 3, Loss: 0.0066549573093652725\n",
      "Epoch: 4, Loss: 0.06309013813734055\n"
     ]
    }
   ],
   "source": [
    "model = nn.Sequential(\n",
    "    nn.Linear(3 * 32 * 32, 512),\n",
    "    nn.Tanh(),\n",
    "    nn.Linear(512, 2),\n",
    "    nn.LogSoftmax(dim=1)\n",
    ")\n",
    "loss_function = nn.NLLLoss()\n",
    "optimizer = optim.SGD(model.parameters(), lr=0.01)\n",
    "n_epochs = 5\n",
    "for epoch in range(n_epochs):\n",
    "    for img, label in data_set:\n",
    "        out = model(img.view(-1).unsqueeze(0))\n",
    "        loss = loss_function(out, torch.tensor([label]))\n",
    "        optimizer.zero_grad()\n",
    "        loss.backward()\n",
    "        optimizer.step()\n",
    "    print(f'Epoch: {epoch}, Loss: {float(loss)}')"
   ]
  },
  {
   "cell_type": "code",
   "execution_count": 24,
   "metadata": {},
   "outputs": [
    {
     "name": "stdout",
     "output_type": "stream",
     "text": [
      "Epoch: 0, Loss: 0.4791274070739746\n",
      "Epoch: 1, Loss: 0.2144928127527237\n",
      "Epoch: 2, Loss: 0.26300597190856934\n",
      "Epoch: 3, Loss: 0.4268561601638794\n",
      "Epoch: 4, Loss: 0.5575602650642395\n",
      "Epoch: 5, Loss: 0.26792019605636597\n",
      "Epoch: 6, Loss: 0.4262995719909668\n",
      "Epoch: 7, Loss: 0.22289925813674927\n",
      "Epoch: 8, Loss: 0.22629135847091675\n",
      "Epoch: 9, Loss: 0.6511796116828918\n",
      "Epoch: 10, Loss: 0.29538393020629883\n",
      "Epoch: 11, Loss: 0.1409776210784912\n",
      "Epoch: 12, Loss: 0.3999505043029785\n",
      "Epoch: 13, Loss: 0.18031740188598633\n",
      "Epoch: 14, Loss: 0.14219370484352112\n",
      "Epoch: 15, Loss: 0.2915889024734497\n",
      "Epoch: 16, Loss: 0.2373466193675995\n",
      "Epoch: 17, Loss: 0.2170676589012146\n",
      "Epoch: 18, Loss: 0.3028430640697479\n",
      "Epoch: 19, Loss: 0.12499549239873886\n",
      "Epoch: 20, Loss: 0.2615547776222229\n",
      "Epoch: 21, Loss: 0.1612151712179184\n",
      "Epoch: 22, Loss: 0.07355406880378723\n",
      "Epoch: 23, Loss: 0.08102864027023315\n",
      "Epoch: 24, Loss: 0.11338822543621063\n",
      "Epoch: 25, Loss: 0.07410069555044174\n",
      "Epoch: 26, Loss: 0.38276100158691406\n",
      "Epoch: 27, Loss: 0.0787140429019928\n",
      "Epoch: 28, Loss: 0.04662446305155754\n",
      "Epoch: 29, Loss: 0.18963029980659485\n",
      "Epoch: 30, Loss: 0.10761985182762146\n",
      "Epoch: 31, Loss: 0.020990444347262383\n",
      "Epoch: 32, Loss: 0.06209361553192139\n",
      "Epoch: 33, Loss: 0.1182481124997139\n",
      "Epoch: 34, Loss: 0.06260722130537033\n",
      "Epoch: 35, Loss: 0.06207737699151039\n",
      "Epoch: 36, Loss: 0.04125811904668808\n",
      "Epoch: 37, Loss: 0.032472409307956696\n",
      "Epoch: 38, Loss: 0.029105111956596375\n",
      "Epoch: 39, Loss: 0.016325034201145172\n",
      "Epoch: 40, Loss: 0.033724043518304825\n",
      "Epoch: 41, Loss: 0.03356589749455452\n",
      "Epoch: 42, Loss: 0.05740746855735779\n",
      "Epoch: 43, Loss: 0.07177809625864029\n",
      "Epoch: 44, Loss: 0.011562272906303406\n",
      "Epoch: 45, Loss: 0.027995286509394646\n",
      "Epoch: 46, Loss: 0.0513777881860733\n",
      "Epoch: 47, Loss: 0.027172477915883064\n",
      "Epoch: 48, Loss: 0.026099935173988342\n",
      "Epoch: 49, Loss: 0.020950764417648315\n",
      "Epoch: 50, Loss: 0.03221510350704193\n",
      "Epoch: 51, Loss: 0.012147514149546623\n",
      "Epoch: 52, Loss: 0.017019255086779594\n",
      "Epoch: 53, Loss: 0.04117978736758232\n",
      "Epoch: 54, Loss: 0.014281771145761013\n",
      "Epoch: 55, Loss: 0.017424382269382477\n",
      "Epoch: 56, Loss: 0.028766745701432228\n",
      "Epoch: 57, Loss: 0.014778214506804943\n",
      "Epoch: 58, Loss: 0.011635536327958107\n",
      "Epoch: 59, Loss: 0.020264936611056328\n",
      "Epoch: 60, Loss: 0.015801267698407173\n",
      "Epoch: 61, Loss: 0.015761075541377068\n",
      "Epoch: 62, Loss: 0.019468504935503006\n",
      "Epoch: 63, Loss: 0.015051214024424553\n",
      "Epoch: 64, Loss: 0.0169143658131361\n",
      "Epoch: 65, Loss: 0.025977494195103645\n",
      "Epoch: 66, Loss: 0.015149993821978569\n",
      "Epoch: 67, Loss: 0.01411315705627203\n",
      "Epoch: 68, Loss: 0.010078545659780502\n",
      "Epoch: 69, Loss: 0.012306527234613895\n",
      "Epoch: 70, Loss: 0.005889939144253731\n",
      "Epoch: 71, Loss: 0.014248994179069996\n",
      "Epoch: 72, Loss: 0.00913791824132204\n",
      "Epoch: 73, Loss: 0.005587155930697918\n",
      "Epoch: 74, Loss: 0.006884153466671705\n",
      "Epoch: 75, Loss: 0.015938207507133484\n",
      "Epoch: 76, Loss: 0.005791197065263987\n",
      "Epoch: 77, Loss: 0.014070547185838223\n",
      "Epoch: 78, Loss: 0.009144281968474388\n",
      "Epoch: 79, Loss: 0.005144988186657429\n",
      "Epoch: 80, Loss: 0.015971971675753593\n",
      "Epoch: 81, Loss: 0.011627079918980598\n",
      "Epoch: 82, Loss: 0.003719538450241089\n",
      "Epoch: 83, Loss: 0.006837383843958378\n",
      "Epoch: 84, Loss: 0.01829254999756813\n",
      "Epoch: 85, Loss: 0.00496539706364274\n",
      "Epoch: 86, Loss: 0.014679903164505959\n",
      "Epoch: 87, Loss: 0.0073334090411663055\n",
      "Epoch: 88, Loss: 0.0040371352806687355\n",
      "Epoch: 89, Loss: 0.00925508514046669\n",
      "Epoch: 90, Loss: 0.0062727006152272224\n",
      "Epoch: 91, Loss: 0.004186419770121574\n",
      "Epoch: 92, Loss: 0.004690556321293116\n",
      "Epoch: 93, Loss: 0.004957710858434439\n",
      "Epoch: 94, Loss: 0.009649351239204407\n",
      "Epoch: 95, Loss: 0.002418302232399583\n",
      "Epoch: 96, Loss: 0.003127776086330414\n",
      "Epoch: 97, Loss: 0.008202514611184597\n",
      "Epoch: 98, Loss: 0.006065458059310913\n",
      "Epoch: 99, Loss: 0.010951967909932137\n"
     ]
    }
   ],
   "source": [
    "train_loader = torch.utils.data.DataLoader(data_set, batch_size=64, shuffle=True)\n",
    "model = nn.Sequential(\n",
    "    nn.Linear(3 * 32 * 32, 512),\n",
    "    nn.Tanh(),\n",
    "    nn.Linear(512, 2),\n",
    "    nn.LogSoftmax(dim=1)\n",
    ")\n",
    "loss_function = nn.NLLLoss()\n",
    "optimizer = optim.SGD(model.parameters(), lr=0.01)\n",
    "n_epochs = 100\n",
    "for epoch in range(n_epochs):\n",
    "    for img, label in train_loader:\n",
    "        out = model(img.view(img.shape[0], -1))\n",
    "        loss = loss_function(out, label)\n",
    "        optimizer.zero_grad()\n",
    "        loss.backward()\n",
    "        optimizer.step()\n",
    "    print(f'Epoch: {epoch}, Loss: {float(loss)}')"
   ]
  },
  {
   "cell_type": "code",
   "execution_count": 25,
   "metadata": {},
   "outputs": [
    {
     "name": "stdout",
     "output_type": "stream",
     "text": [
      "Accuracy: 0.868\n"
     ]
    }
   ],
   "source": [
    "val_loader = torch.utils.data.DataLoader(validation_set, batch_size=64, shuffle=False)\n",
    "correct = 0\n",
    "total = 0\n",
    "with torch.no_grad():\n",
    "    for imgs, labels in val_loader:\n",
    "        outputs = model(imgs.view(imgs.shape[0], -1))\n",
    "        _, predicted = torch.max(outputs, dim=1)\n",
    "        total += labels.shape[0]\n",
    "        correct += int((predicted == labels).sum())\n",
    "print(f\"Accuracy: {correct / total}\")"
   ]
  },
  {
   "cell_type": "code",
   "execution_count": 27,
   "metadata": {},
   "outputs": [
    {
     "data": {
      "text/plain": [
       "tensor([[-1.4067e-05, -1.1169e+01]], grad_fn=<LogSoftmaxBackward>)"
      ]
     },
     "execution_count": 27,
     "metadata": {},
     "output_type": "execute_result"
    }
   ],
   "source": [
    "img, label = validation_set[20]\n",
    "out = model(img.view(-1).unsqueeze(0))\n",
    "_, index = torch.max(out, dim=1)\n",
    "out"
   ]
  },
  {
   "cell_type": "code",
   "execution_count": 28,
   "metadata": {},
   "outputs": [
    {
     "name": "stdout",
     "output_type": "stream",
     "text": [
      "->:  car  model: car\n"
     ]
    },
    {
     "name": "stderr",
     "output_type": "stream",
     "text": [
      "Clipping input data to the valid range for imshow with RGB data ([0..1] for floats or [0..255] for integers).\n"
     ]
    },
    {
     "data": {
      "image/png": "[encoded data removed]",
      "text/plain": [
       "<Figure size 432x288 with 1 Axes>"
      ]
     },
     "metadata": {
      "needs_background": "light"
     },
     "output_type": "display_data"
    }
   ],
   "source": [
    "print('->: ', class_names[label], ' model:', class_names[index])\n",
    "plt.imshow(img.permute(1, 2, 0))\n",
    "plt.show()"
   ]
  },
  {
   "cell_type": "markdown",
   "metadata": {},
   "source": [
    "# Mejoras, limitaciones y concluciones"
   ]
  },
  {
   "cell_type": "code",
   "execution_count": 30,
   "metadata": {},
   "outputs": [
    {
     "name": "stdout",
     "output_type": "stream",
     "text": [
      "Epoch: 0, Loss: 0.4598587453365326\n",
      "Epoch: 1, Loss: 0.38456660509109497\n",
      "Epoch: 2, Loss: 0.47965189814567566\n",
      "Epoch: 3, Loss: 0.24956542253494263\n",
      "Epoch: 4, Loss: 0.17972975969314575\n",
      "Epoch: 5, Loss: 0.4790491461753845\n",
      "Epoch: 6, Loss: 0.30181533098220825\n",
      "Epoch: 7, Loss: 0.3565053641796112\n",
      "Epoch: 8, Loss: 0.19411757588386536\n",
      "Epoch: 9, Loss: 0.320214182138443\n",
      "Epoch: 10, Loss: 0.4191557466983795\n",
      "Epoch: 11, Loss: 0.4710755944252014\n",
      "Epoch: 12, Loss: 0.27521052956581116\n",
      "Epoch: 13, Loss: 0.5222012400627136\n",
      "Epoch: 14, Loss: 0.22001895308494568\n",
      "Epoch: 15, Loss: 0.29205042123794556\n",
      "Epoch: 16, Loss: 0.25628405809402466\n",
      "Epoch: 17, Loss: 0.06873556226491928\n",
      "Epoch: 18, Loss: 0.22997446358203888\n",
      "Epoch: 19, Loss: 0.13968704640865326\n",
      "Epoch: 20, Loss: 0.24427348375320435\n",
      "Epoch: 21, Loss: 0.3343491554260254\n",
      "Epoch: 22, Loss: 0.2886102497577667\n",
      "Epoch: 23, Loss: 0.11626160144805908\n",
      "Epoch: 24, Loss: 0.04215320572257042\n",
      "Epoch: 25, Loss: 0.06260918080806732\n",
      "Epoch: 26, Loss: 1.1271064281463623\n",
      "Epoch: 27, Loss: 0.05552944168448448\n",
      "Epoch: 28, Loss: 0.018726905807852745\n",
      "Epoch: 29, Loss: 0.020371906459331512\n",
      "Epoch: 30, Loss: 0.00495600700378418\n",
      "Epoch: 31, Loss: 0.0158237274736166\n",
      "Epoch: 32, Loss: 0.05232895538210869\n",
      "Epoch: 33, Loss: 0.058492261916399\n",
      "Epoch: 34, Loss: 0.029210086911916733\n",
      "Epoch: 35, Loss: 0.011321972124278545\n",
      "Epoch: 36, Loss: 0.004440284799784422\n",
      "Epoch: 37, Loss: 0.02937096171081066\n",
      "Epoch: 38, Loss: 0.0013260160339996219\n",
      "Epoch: 39, Loss: 0.0060860575176775455\n",
      "Epoch: 40, Loss: 0.0075860172510147095\n",
      "Epoch: 41, Loss: 0.0013157768407836556\n",
      "Epoch: 42, Loss: 0.007994074374437332\n",
      "Epoch: 43, Loss: 0.0023384089581668377\n",
      "Epoch: 44, Loss: 0.0039013915229588747\n",
      "Epoch: 45, Loss: 0.001564142294228077\n",
      "Epoch: 46, Loss: 0.0011600269936025143\n",
      "Epoch: 47, Loss: 0.0005650240927934647\n",
      "Epoch: 48, Loss: 0.0008145364699885249\n",
      "Epoch: 49, Loss: 0.0026157619431614876\n",
      "Epoch: 50, Loss: 0.00173131562769413\n",
      "Epoch: 51, Loss: 0.002900659339502454\n",
      "Epoch: 52, Loss: 0.0022446615621447563\n",
      "Epoch: 53, Loss: 0.001002530101686716\n",
      "Epoch: 54, Loss: 0.001603169133886695\n",
      "Epoch: 55, Loss: 0.001746499096043408\n",
      "Epoch: 56, Loss: 0.0019674107898026705\n",
      "Epoch: 57, Loss: 0.0012056025443598628\n",
      "Epoch: 58, Loss: 0.0009328555897809565\n",
      "Epoch: 59, Loss: 0.0003447009657975286\n",
      "Epoch: 60, Loss: 0.0023078611120581627\n",
      "Epoch: 61, Loss: 0.0004898183397017419\n",
      "Epoch: 62, Loss: 0.0006682582315988839\n",
      "Epoch: 63, Loss: 0.0011939529795199633\n",
      "Epoch: 64, Loss: 0.0013430874096229672\n",
      "Epoch: 65, Loss: 0.001331989304162562\n",
      "Epoch: 66, Loss: 0.0007087221601977944\n",
      "Epoch: 67, Loss: 0.002125662053003907\n",
      "Epoch: 68, Loss: 0.0004977009375579655\n",
      "Epoch: 69, Loss: 0.0005627798964269459\n",
      "Epoch: 70, Loss: 0.0003089134697802365\n",
      "Epoch: 71, Loss: 0.0013217112282291055\n",
      "Epoch: 72, Loss: 0.0008258697343990207\n",
      "Epoch: 73, Loss: 0.001124940812587738\n",
      "Epoch: 74, Loss: 0.00021760484378319234\n",
      "Epoch: 75, Loss: 0.00012457664706744254\n",
      "Epoch: 76, Loss: 0.001489452668465674\n",
      "Epoch: 77, Loss: 0.0003410204662941396\n",
      "Epoch: 78, Loss: 0.0011330251581966877\n",
      "Epoch: 79, Loss: 0.001103464630432427\n",
      "Epoch: 80, Loss: 0.0010268964106217027\n",
      "Epoch: 81, Loss: 0.000400996272219345\n",
      "Epoch: 82, Loss: 0.00021405526786111295\n",
      "Epoch: 83, Loss: 0.0006069184746593237\n",
      "Epoch: 84, Loss: 0.0007497818442061543\n",
      "Epoch: 85, Loss: 0.0004529858415480703\n",
      "Epoch: 86, Loss: 0.0007147010182961822\n",
      "Epoch: 87, Loss: 0.0008362387889064848\n",
      "Epoch: 88, Loss: 0.0006162033532746136\n",
      "Epoch: 89, Loss: 0.000491951301228255\n",
      "Epoch: 90, Loss: 0.0004051517171319574\n",
      "Epoch: 91, Loss: 0.00034391353256069124\n",
      "Epoch: 92, Loss: 0.0004553453472908586\n",
      "Epoch: 93, Loss: 0.0005737730534747243\n",
      "Epoch: 94, Loss: 0.0005761023494414985\n",
      "Epoch: 95, Loss: 0.0002066335582640022\n",
      "Epoch: 96, Loss: 0.00047744440962560475\n",
      "Epoch: 97, Loss: 0.0001253819209523499\n",
      "Epoch: 98, Loss: 0.000519844179507345\n",
      "Epoch: 99, Loss: 0.00029293104307726026\n"
     ]
    }
   ],
   "source": [
    "train_loader = torch.utils.data.DataLoader(data_set, batch_size=64, shuffle=True)\n",
    "model = nn.Sequential(\n",
    "    nn.Linear(3072, 1024),\n",
    "    nn.Tanh(),\n",
    "    nn.Linear(1024, 512),\n",
    "    nn.Tanh(),\n",
    "    nn.Linear(512, 128),\n",
    "    nn.Tanh(),\n",
    "    nn.Linear(128, 2)\n",
    ")\n",
    "loss_function = nn.CrossEntropyLoss()\n",
    "optimizer = optim.SGD(model.parameters(), lr=0.01)\n",
    "n_epochs = 100\n",
    "for epoch in range(n_epochs):\n",
    "    for img, label in train_loader:\n",
    "        out = model(img.view(img.shape[0], -1))\n",
    "        loss = loss_function(out, label)\n",
    "        optimizer.zero_grad()\n",
    "        loss.backward()\n",
    "        optimizer.step()\n",
    "    print(f'Epoch: {epoch}, Loss: {float(loss)}')"
   ]
  },
  {
   "cell_type": "code",
   "execution_count": 31,
   "metadata": {},
   "outputs": [
    {
     "name": "stdout",
     "output_type": "stream",
     "text": [
      "Accuracy: 0.868\n"
     ]
    }
   ],
   "source": [
    "val_loader = torch.utils.data.DataLoader(validation_set, batch_size=64, shuffle=False)\n",
    "correct = 0\n",
    "total = 0\n",
    "with torch.no_grad():\n",
    "    for imgs, labels in val_loader:\n",
    "        outputs = model(imgs.view(imgs.shape[0], -1))\n",
    "        _, predicted = torch.max(outputs, dim=1)\n",
    "        total += labels.shape[0]\n",
    "        correct += int((predicted == labels).sum())\n",
    "print(f\"Accuracy: {correct / total}\")"
   ]
  },
  {
   "cell_type": "code",
   "execution_count": 32,
   "metadata": {},
   "outputs": [
    {
     "name": "stdout",
     "output_type": "stream",
     "text": [
      "Accuracy: 1.0\n"
     ]
    }
   ],
   "source": [
    "train_loader = torch.utils.data.DataLoader(data_set, batch_size=64, shuffle=False)\n",
    "correct = 0\n",
    "total = 0\n",
    "with torch.no_grad():\n",
    "    for imgs, labels in train_loaderloaderloader:\n",
    "        outputs = model(imgs.view(imgs.shape[0], -1))\n",
    "        _, predicted = torch.max(outputs, dim=1)\n",
    "        total += labels.shape[0]\n",
    "        correct += int((predicted == labels).sum())\n",
    "print(f\"Accuracy: {correct / total}\")"
   ]
  },
  {
   "cell_type": "code",
   "execution_count": 34,
   "metadata": {},
   "outputs": [
    {
     "data": {
      "text/plain": [
       "3737474"
      ]
     },
     "execution_count": 34,
     "metadata": {},
     "output_type": "execute_result"
    }
   ],
   "source": [
    "sum([p.numel() for p in model.parameters() if p.requires_grad == True])"
   ]
  },
  {
   "cell_type": "code",
   "execution_count": 41,
   "metadata": {},
   "outputs": [
    {
     "name": "stderr",
     "output_type": "stream",
     "text": [
      "Clipping input data to the valid range for imshow with RGB data ([0..1] for floats or [0..255] for integers).\n"
     ]
    },
    {
     "name": "stdout",
     "output_type": "stream",
     "text": [
      "correct: car, model: cat\n"
     ]
    },
    {
     "data": {
      "text/plain": [
       "tensor([5.2212], grad_fn=<MaxBackward0>)"
      ]
     },
     "execution_count": 41,
     "metadata": {},
     "output_type": "execute_result"
    },
    {
     "data": {
      "image/png": "[encoded data removed]",
      "text/plain": [
       "<Figure size 432x288 with 1 Axes>"
      ]
     },
     "metadata": {
      "needs_background": "light"
     },
     "output_type": "display_data"
    }
   ],
   "source": [
    "image = request.urlretrieve('https://i.pinimg.com/originals/43/bc/47/43bc47066bb8b2fa4fe7cc8e82cc3714.jpg','carcat.jpg')\n",
    "img = Image.open(image[0])\n",
    "preprocess = transforms.Compose([\n",
    "    transforms.Resize(48),\n",
    "    transforms.CenterCrop(32),\n",
    "    transforms.ToTensor(),\n",
    "    transforms.Normalize(\n",
    "        mean=mean,\n",
    "        std=std\n",
    "    )\n",
    "])\n",
    "img_t = preprocess(img)\n",
    "out = model(img_t.view(-1).unsqueeze(0))\n",
    "_, index = torch.max(out, dim=1)\n",
    "print(f'correct: car, model: {class_names[index]}')\n",
    "plt.imshow(img_t.permute(1, 2, 0))\n",
    "_"
   ]
  }
 ],
 "metadata": {
  "kernelspec": {
   "display_name": "Python 3",
   "language": "python",
   "name": "python3"
  },
  "language_info": {
   "codemirror_mode": {
    "name": "ipython",
    "version": 3
   },
   "file_extension": ".py",
   "mimetype": "text/x-python",
   "name": "python",
   "nbconvert_exporter": "python",
   "pygments_lexer": "ipython3",
   "version": "3.7.5"
  }
 },
 "nbformat": 4,
 "nbformat_minor": 4
}
