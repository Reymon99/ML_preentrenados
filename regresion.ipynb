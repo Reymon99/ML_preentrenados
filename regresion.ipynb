{
 "cells": [
  {
   "cell_type": "code",
   "execution_count": 1,
   "metadata": {},
   "outputs": [],
   "source": [
    "import torch\n",
    "import numpy as np\n",
    "from torch import nn\n",
    "from torch import optim\n",
    "from matplotlib import pyplot as plt"
   ]
  },
  {
   "cell_type": "markdown",
   "metadata": {},
   "source": [
    "# Regresión Lineal\n",
    "---"
   ]
  },
  {
   "cell_type": "code",
   "execution_count": 2,
   "metadata": {},
   "outputs": [
    {
     "data": {
      "text/plain": [
       "<matplotlib.collections.PathCollection at 0x1ccd72f1c48>"
      ]
     },
     "execution_count": 2,
     "metadata": {},
     "output_type": "execute_result"
    },
    {
     "data": {
      "image/png": "[encoded data removed]",
      "text/plain": [
       "<Figure size 432x288 with 1 Axes>"
      ]
     },
     "metadata": {
      "needs_background": "light"
     },
     "output_type": "display_data"
    }
   ],
   "source": [
    "car_prices = [5, 6, 7, 8, 9, 10]\n",
    "units_sold = [8.5, 8, 7.5, 7.0, 6.5, 6.0]\n",
    "plt.scatter(car_prices, units_sold)"
   ]
  },
  {
   "cell_type": "code",
   "execution_count": 5,
   "metadata": {},
   "outputs": [
    {
     "data": {
      "text/plain": [
       "array([[ 5],\n",
       "       [ 6],\n",
       "       [ 7],\n",
       "       [ 8],\n",
       "       [ 9],\n",
       "       [10]])"
      ]
     },
     "execution_count": 5,
     "metadata": {},
     "output_type": "execute_result"
    }
   ],
   "source": [
    "prices_array = np.array(car_prices).reshape(-1, 1)\n",
    "units_array = np.array(units_sold).reshape(-1, 1)\n",
    "prices_array"
   ]
  },
  {
   "cell_type": "code",
   "execution_count": 10,
   "metadata": {},
   "outputs": [
    {
     "data": {
      "text/plain": [
       "(tensor([[ 5.],\n",
       "         [ 6.],\n",
       "         [ 7.],\n",
       "         [ 8.],\n",
       "         [ 9.],\n",
       "         [10.]], requires_grad=True), torch.Size([6, 1]))"
      ]
     },
     "execution_count": 10,
     "metadata": {},
     "output_type": "execute_result"
    }
   ],
   "source": [
    "prices = torch.from_numpy(prices_array).float().requires_grad_(True)\n",
    "units = torch.from_numpy(units_array).float()\n",
    "prices, prices.shape"
   ]
  },
  {
   "cell_type": "code",
   "execution_count": 40,
   "metadata": {
    "scrolled": true
   },
   "outputs": [
    {
     "name": "stdout",
     "output_type": "stream",
     "text": [
      "0.019232260063290596\n"
     ]
    },
    {
     "data": {
      "text/plain": [
       "[<matplotlib.lines.Line2D at 0x1ccdb660048>]"
      ]
     },
     "execution_count": 40,
     "metadata": {},
     "output_type": "execute_result"
    },
    {
     "data": {
      "image/png": "[encoded data removed]",
      "text/plain": [
       "<Figure size 432x288 with 1 Axes>"
      ]
     },
     "metadata": {
      "needs_background": "light"
     },
     "output_type": "display_data"
    }
   ],
   "source": [
    "model = nn.Linear(1, 1)\n",
    "loss_function = nn.MSELoss()  # Media de los cuadrados de los errores\n",
    "optimizer = optim.SGD(model.parameters(), lr=0.015)\n",
    "losses = []\n",
    "iterations = 2000\n",
    "for i in range(iterations):\n",
    "    predicion = model(prices)\n",
    "    loss = loss_function(predicion, units)\n",
    "    losses.append(loss.data)\n",
    "    optimizer.zero_grad()\n",
    "    loss.backward()\n",
    "    optimizer.step()\n",
    "print(float(loss))\n",
    "plt.plot(range(iterations), losses)"
   ]
  },
  {
   "cell_type": "code",
   "execution_count": 43,
   "metadata": {},
   "outputs": [
    {
     "data": {
      "text/plain": [
       "tensor([[4.4841]], grad_fn=<AddmmBackward>)"
      ]
     },
     "execution_count": 43,
     "metadata": {},
     "output_type": "execute_result"
    }
   ],
   "source": [
    "x = torch.Tensor([[14.0]])  # a mayor precio menores ventas | a menor precio mayores ventas\n",
    "p = model(x)\n",
    "p"
   ]
  },
  {
   "cell_type": "markdown",
   "metadata": {},
   "source": [
    "# Regresión Logística\n",
    "---"
   ]
  },
  {
   "cell_type": "code",
   "execution_count": 2,
   "metadata": {},
   "outputs": [
    {
     "data": {
      "text/plain": [
       "array([[ 7.53678265e+00,  2.29141331e+00],\n",
       "       [-5.02964800e+00,  2.23195712e+00],\n",
       "       [-2.55273505e+00,  2.71771022e+00],\n",
       "       [ 6.16601654e+00,  2.15581616e+00],\n",
       "       [-2.90529711e+00,  7.69150613e-01],\n",
       "       [ 5.19002650e+00,  3.90940417e+00],\n",
       "       [-5.52854060e-01, -1.92174377e-01],\n",
       "       [-5.09538801e+00, -2.06909229e+00],\n",
       "       [-1.38454812e+00,  1.20705827e-01],\n",
       "       [-7.02231465e+00,  6.43290494e+00],\n",
       "       [ 3.37869138e-01, -3.51796070e+00],\n",
       "       [-5.32858781e-01, -2.68589046e+00],\n",
       "       [ 2.77650324e+00,  2.39954502e+00],\n",
       "       [-4.96164971e+00,  3.79365004e+00],\n",
       "       [ 1.49093922e+00, -1.03871975e+00],\n",
       "       [ 1.89410862e+00, -3.45419269e+00],\n",
       "       [-2.19674057e+00, -3.00595120e+00],\n",
       "       [-7.29319894e+00, -1.56865386e+00],\n",
       "       [-1.86228007e+00,  4.50874384e+00],\n",
       "       [-2.34768370e+00,  4.04480039e+00],\n",
       "       [ 1.85592145e+00,  2.47992584e-01],\n",
       "       [-2.82636910e+00,  5.04068274e+00],\n",
       "       [-3.16289187e+00,  5.00136793e-01],\n",
       "       [-7.74004725e-01, -1.29238503e+00],\n",
       "       [ 2.01123859e+00, -7.35588978e+00],\n",
       "       [-9.76814855e-01, -4.55828629e+00],\n",
       "       [-2.34021704e-02,  1.71379282e+00],\n",
       "       [-1.04604206e+00,  4.56680595e-01],\n",
       "       [-3.44014204e+00,  2.34941839e+00],\n",
       "       [ 3.90325356e-01, -8.16127140e-01],\n",
       "       [ 7.55758387e-01,  6.87430662e+00],\n",
       "       [-2.08366274e+00, -1.38640218e+00],\n",
       "       [-1.69840293e+00,  1.72795193e-01],\n",
       "       [-2.07863191e-01,  9.07778166e+00],\n",
       "       [-1.59086329e+00,  7.02291931e+00],\n",
       "       [ 1.61948843e+00, -1.67260909e+00],\n",
       "       [-4.49419984e-01, -4.79440156e+00],\n",
       "       [ 6.03720370e+00,  5.74698408e-01],\n",
       "       [-1.23117197e+00,  4.49345643e-01],\n",
       "       [ 2.20387944e+00, -2.61505346e+00],\n",
       "       [ 3.79137711e+00, -2.72861846e+00],\n",
       "       [ 1.46222976e+00, -4.67541941e+00],\n",
       "       [ 5.49327642e+00,  2.81509687e+00],\n",
       "       [ 1.73439676e+00, -4.00425136e+00],\n",
       "       [ 5.93629439e+00, -3.14775076e-01],\n",
       "       [ 5.98692593e+00, -3.16320709e+00],\n",
       "       [-3.20678956e-02, -9.86259287e-01],\n",
       "       [-1.23565322e+00,  1.15877971e+00],\n",
       "       [ 2.12898981e-01, -6.37809538e-03],\n",
       "       [-4.24540882e+00,  4.85821104e-01],\n",
       "       [-1.34442115e+00,  1.52083388e+00],\n",
       "       [-8.29316648e-01, -7.22521794e-01],\n",
       "       [ 9.03531483e-01,  5.53625741e+00],\n",
       "       [ 6.92202658e+00, -2.87843628e+00],\n",
       "       [-4.21235587e+00, -5.16235585e+00],\n",
       "       [-1.47506957e+00,  5.00964935e+00],\n",
       "       [-3.92967482e+00, -5.72773578e+00],\n",
       "       [-6.20868337e-01,  4.97236859e+00],\n",
       "       [ 1.09869588e+00, -3.90703730e+00],\n",
       "       [-4.48453352e+00, -1.37896081e+00],\n",
       "       [-4.74476883e+00,  3.18053667e+00],\n",
       "       [ 1.94881435e+00, -1.06678896e-01],\n",
       "       [-2.85849171e+00,  4.50805160e+00],\n",
       "       [ 3.23487042e+00,  2.74355301e+00],\n",
       "       [ 2.13409175e+00,  2.95501087e+00],\n",
       "       [-1.70533662e+00, -1.25461921e+00],\n",
       "       [ 3.73272825e-01,  2.06183759e-01],\n",
       "       [ 1.97841660e+00,  2.16933248e+00],\n",
       "       [-1.28435210e+00,  4.52600189e-01],\n",
       "       [ 3.48947651e+00,  1.21714835e+00],\n",
       "       [-9.31870706e-01,  2.35154771e+00],\n",
       "       [-1.75698496e+00,  4.51013092e+00],\n",
       "       [-1.69437085e+00,  3.85007232e+00],\n",
       "       [ 6.68034876e-02,  2.29169081e+00],\n",
       "       [ 2.61714992e+00,  3.65179849e+00],\n",
       "       [-2.38539502e+00,  3.77848444e+00],\n",
       "       [ 2.09900949e+00, -3.38833710e+00],\n",
       "       [ 2.85485982e+00, -1.34919976e+00],\n",
       "       [ 2.58531120e+00, -2.16337681e+00],\n",
       "       [ 5.36958004e-01,  1.40600389e+00],\n",
       "       [-2.28778009e+00,  4.59156443e+00],\n",
       "       [-2.36564038e+00,  7.22329539e-02],\n",
       "       [-3.28321310e+00, -6.36454143e+00],\n",
       "       [-2.73047355e+00,  2.53090449e+00],\n",
       "       [-1.27767850e+00,  2.16618213e+00],\n",
       "       [ 3.41089519e+00,  4.79259080e+00],\n",
       "       [-1.61340535e+00,  2.05581771e+00],\n",
       "       [-7.32296273e+00, -1.38683410e+00],\n",
       "       [ 3.48877629e-01, -2.44117354e+00],\n",
       "       [-1.15177293e+00, -8.18319514e-01],\n",
       "       [-4.17981812e+00,  1.70336937e+00],\n",
       "       [-1.37823763e+00,  4.51840868e-01],\n",
       "       [ 8.72961938e+00, -7.15524371e-02],\n",
       "       [ 4.64148142e+00,  1.27513034e+00],\n",
       "       [-3.04832774e-01,  1.34037703e+00],\n",
       "       [-2.55140346e+00, -2.57556100e+00],\n",
       "       [ 1.25955884e+00,  2.67510584e+00],\n",
       "       [ 1.22928560e+00, -1.63566771e+00],\n",
       "       [ 4.98428612e+00, -7.32512335e+00],\n",
       "       [-7.23030921e-01,  3.97608034e+00]])"
      ]
     },
     "execution_count": 2,
     "metadata": {},
     "output_type": "execute_result"
    }
   ],
   "source": [
    "n = 100\n",
    "h = n//2\n",
    "dimen = 2\n",
    "data = np.random.randn(n, dimen)*3\n",
    "data"
   ]
  },
  {
   "cell_type": "code",
   "execution_count": 3,
   "metadata": {},
   "outputs": [
    {
     "data": {
      "text/plain": [
       "<matplotlib.collections.PathCollection at 0x19ef2bb6408>"
      ]
     },
     "execution_count": 3,
     "metadata": {},
     "output_type": "execute_result"
    },
    {
     "data": {
      "image/png": "[encoded data removed]",
      "text/plain": [
       "<Figure size 432x288 with 1 Axes>"
      ]
     },
     "metadata": {
      "needs_background": "light"
     },
     "output_type": "display_data"
    }
   ],
   "source": [
    "plt.scatter(data[:, 0], data[:, 1])"
   ]
  },
  {
   "cell_type": "code",
   "execution_count": 4,
   "metadata": {},
   "outputs": [],
   "source": [
    "data[:h, :] = data[:h, :] - 3 * np.ones((h, dimen))"
   ]
  },
  {
   "cell_type": "code",
   "execution_count": 5,
   "metadata": {},
   "outputs": [],
   "source": [
    "data[h:, :] = data[h:, :] + 3 * np.ones((h, dimen))"
   ]
  },
  {
   "cell_type": "code",
   "execution_count": 6,
   "metadata": {},
   "outputs": [
    {
     "data": {
      "text/plain": [
       "<matplotlib.collections.PathCollection at 0x19ef4dbc388>"
      ]
     },
     "execution_count": 6,
     "metadata": {},
     "output_type": "execute_result"
    },
    {
     "data": {
      "image/png": "[encoded data removed]",
      "text/plain": [
       "<Figure size 432x288 with 1 Axes>"
      ]
     },
     "metadata": {
      "needs_background": "light"
     },
     "output_type": "display_data"
    }
   ],
   "source": [
    "colors = ['blue', 'red']\n",
    "color = np.array([colors[0]] * h + [colors[1]] * h).reshape(n)\n",
    "plt.scatter(data[:, 0], data[:, 1], c=color, s=75, alpha=0.6)"
   ]
  },
  {
   "cell_type": "code",
   "execution_count": 7,
   "metadata": {},
   "outputs": [
    {
     "data": {
      "text/plain": [
       "(torch.Size([100, 2]), torch.Size([100, 1]))"
      ]
     },
     "execution_count": 7,
     "metadata": {},
     "output_type": "execute_result"
    }
   ],
   "source": [
    "target = np.array([0] * h + [1] * h).reshape(n, 1)\n",
    "x = torch.from_numpy(data).float().requires_grad_(True)  #input\n",
    "y = torch.from_numpy(target).float()  # output\n",
    "x.shape, y.shape"
   ]
  },
  {
   "cell_type": "code",
   "execution_count": 8,
   "metadata": {},
   "outputs": [
    {
     "data": {
      "text/plain": [
       "tensor(0.2403, grad_fn=<BinaryCrossEntropyBackward>)"
      ]
     },
     "execution_count": 8,
     "metadata": {},
     "output_type": "execute_result"
    },
    {
     "data": {
      "image/png": "[encoded data removed]",
      "text/plain": [
       "<Figure size 432x288 with 1 Axes>"
      ]
     },
     "metadata": {
      "needs_background": "light"
     },
     "output_type": "display_data"
    }
   ],
   "source": [
    "model = nn.Sequential(\n",
    "          nn.Linear(2,1),\n",
    "          nn.Sigmoid()\n",
    "      )\n",
    "loss_function = nn.BCELoss()\n",
    "\n",
    "optimizer = optim.SGD(model.parameters(), lr=0.01)\n",
    "\n",
    "losses = []\n",
    "\n",
    "iterations = 2000\n",
    "\n",
    "for i in range(iterations):\n",
    "  result = model(x)\n",
    "  \n",
    "  loss = loss_function(result, y)\n",
    "  losses.append(loss.data)\n",
    "  \n",
    "  optimizer.zero_grad()\n",
    "  loss.backward()\n",
    "  \n",
    "  optimizer.step()\n",
    "\n",
    "plt.plot(range(iterations), losses)\n",
    "loss"
   ]
  },
  {
   "cell_type": "code",
   "execution_count": 12,
   "metadata": {},
   "outputs": [
    {
     "name": "stdout",
     "output_type": "stream",
     "text": [
      "blue\n"
     ]
    }
   ],
   "source": [
    "blue = torch.Tensor([[-5, -6]])\n",
    "prediction = model(blue).data[0][0] > 0.5\n",
    "print(colors[prediction])"
   ]
  },
  {
   "cell_type": "code",
   "execution_count": 13,
   "metadata": {},
   "outputs": [
    {
     "name": "stdout",
     "output_type": "stream",
     "text": [
      "red\n"
     ]
    }
   ],
   "source": [
    "red = torch.Tensor([[8, 6]])\n",
    "prediction = model(red).data[0][0] > 0.5\n",
    "print(colors[prediction])"
   ]
  },
  {
   "cell_type": "code",
   "execution_count": 20,
   "metadata": {},
   "outputs": [
    {
     "data": {
      "text/plain": [
       "[<matplotlib.lines.Line2D at 0x19ef5124a08>]"
      ]
     },
     "execution_count": 20,
     "metadata": {},
     "output_type": "execute_result"
    },
    {
     "data": {
      "image/png": "[encoded data removed]",
      "text/plain": [
       "<Figure size 432x288 with 1 Axes>"
      ]
     },
     "metadata": {
      "needs_background": "light"
     },
     "output_type": "display_data"
    }
   ],
   "source": [
    "w = list(model.parameters())\n",
    "w0 = w[0].data.numpy()\n",
    "w1 = w[1].data.numpy()\n",
    "plt.scatter(data[:,0], data[:,1], c=color, s=75, alpha=0.6)\n",
    "x_axis = np.linspace(-10, 10, n)\n",
    "y_axis = -(w1[0] + x_axis * w0[0][0]) / w0[0][1]\n",
    "plt.plot(x_axis, y_axis, 'g--')"
   ]
  }
 ],
 "metadata": {
  "kernelspec": {
   "display_name": "Python 3",
   "language": "python",
   "name": "python3"
  },
  "language_info": {
   "codemirror_mode": {
    "name": "ipython",
    "version": 3
   },
   "file_extension": ".py",
   "mimetype": "text/x-python",
   "name": "python",
   "nbconvert_exporter": "python",
   "pygments_lexer": "ipython3",
   "version": "3.7.5"
  }
 },
 "nbformat": 4,
 "nbformat_minor": 2
}
